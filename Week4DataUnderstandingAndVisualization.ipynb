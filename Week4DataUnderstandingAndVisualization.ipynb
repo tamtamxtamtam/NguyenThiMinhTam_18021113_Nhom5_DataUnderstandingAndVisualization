{
  "nbformat": 4,
  "nbformat_minor": 0,
  "metadata": {
    "colab": {
      "name": "Week4DataUnderstandingAndVisualization.ipynb",
      "provenance": [],
      "mount_file_id": "1bOxlf-3YspJ1vYGPuTXMZFFZsIOw_l8U",
      "authorship_tag": "ABX9TyOtQL+Fjo+BuQabAVBlZqlA",
      "include_colab_link": true
    },
    "kernelspec": {
      "name": "python3",
      "display_name": "Python 3"
    }
  },
  "cells": [
    {
      "cell_type": "markdown",
      "metadata": {
        "id": "view-in-github",
        "colab_type": "text"
      },
      "source": [
        "<a href=\"https://colab.research.google.com/github/tamtamxtamtam/NguyenThiMinhTam_18021113_Nhom5_DataUnderstandingAndVisualization/blob/master/Week4DataUnderstandingAndVisualization.ipynb\" target=\"_parent\"><img src=\"https://colab.research.google.com/assets/colab-badge.svg\" alt=\"Open In Colab\"/></a>"
      ]
    },
    {
      "cell_type": "markdown",
      "metadata": {
        "id": "_Lk3NXxWhZMk",
        "colab_type": "text"
      },
      "source": [
        "# **Week 4: Data Understanding And Visualization**\n",
        "# *(Hiểu và trực quan hóa dữ liệu)*\n",
        "\n",
        "Nguyễn Thị Minh Tâm - Nhóm 5\n",
        "\n",
        "\n",
        "---\n",
        "\n",
        "\n",
        "Các thông tin được nêu trong báo cáo đều do em thu nhặt và tìm kiếm ở nhiều nguồn khác nhau, không tránh được khỏi sai sót (Thầy cô có thể để thêm nhận xét trực tiếp tại đây ạ (Ctrl+Alt+M)).\n"
      ]
    },
    {
      "cell_type": "markdown",
      "metadata": {
        "id": "pmEKogEAhY2-",
        "colab_type": "text"
      },
      "source": [
        "![](https://imgur.com/5lZwkjL.png)"
      ]
    },
    {
      "cell_type": "markdown",
      "metadata": {
        "id": "Pa9TvPLCj8_i",
        "colab_type": "text"
      },
      "source": [
        "Tiki là một trang thương mại điện tử lớn ở Việt Nam. Việc crawl dữ liệu tại đây cũng gặp nhiều khó khăn khi đa phần các trang thương mại điện tử đều có cơ chế hạn chế truy cập để tránh quá tải request. Ta có thể cải thiện bằng cách chia nhỏ danh sách các url của các trang sản phẩm, để một khoảng thời gian delay ở giữa; sử dụng hệ điều hành hỗ trợ đa luồng và cải thiện phần cứng máy được dùng để crawl.\n",
        "\n",
        "---\n",
        "# Tổng quan file sau khi thu thập:\n",
        "\n",
        "\n",
        "*   Lấy mẫu khoảng 8000 sản phẩm trong 16 ngành hàng khác nhau (danh sách ngành hàng tại file 'product_type.txt').\n",
        "*   Thời gian: ~ 200 sản phẩm/phút.\n",
        "*   File tuần trước (có thay đổi): https://github.com/tamtamxtamtam/NguyenThiMinhTam_18021113_Nhom5_Crawler\n",
        "\n",
        "\n",
        "\n"
      ]
    },
    {
      "cell_type": "markdown",
      "metadata": {
        "id": "MGIC1NJW-u-3",
        "colab_type": "text"
      },
      "source": [
        "# GET DATA"
      ]
    },
    {
      "cell_type": "code",
      "metadata": {
        "id": "z7cWEhgFf3Ik",
        "colab_type": "code",
        "colab": {
          "base_uri": "https://localhost:8080/",
          "height": 70
        },
        "outputId": "3891a54c-fd04-43a7-94d4-af45520b51a3"
      },
      "source": [
        "import numpy as np\n",
        "import pandas as pd\n",
        "import seaborn as sns\n",
        "import matplotlib.pyplot as plt\n",
        "%matplotlib inline\n",
        "\n",
        "import warnings\n",
        "warnings.filterwarnings('ignore')\n",
        "\n",
        "sns.set_style(\"whitegrid\")"
      ],
      "execution_count": 1,
      "outputs": [
        {
          "output_type": "stream",
          "text": [
            "/usr/local/lib/python3.6/dist-packages/statsmodels/tools/_testing.py:19: FutureWarning: pandas.util.testing is deprecated. Use the functions in the public API at pandas.testing instead.\n",
            "  import pandas.util.testing as tm\n"
          ],
          "name": "stderr"
        }
      ]
    },
    {
      "cell_type": "code",
      "metadata": {
        "id": "F_oClKqWgvK7",
        "colab_type": "code",
        "colab": {}
      },
      "source": [
        "tiki = pd.read_csv('/content/drive/My Drive/product.csv')"
      ],
      "execution_count": 2,
      "outputs": []
    },
    {
      "cell_type": "markdown",
      "metadata": {
        "id": "orveJKch9HiY",
        "colab_type": "text"
      },
      "source": [
        "Lấy random 5 sản phẩm. \n",
        "\n",
        "Dữ liệu thu thập được gồm các trường:\n",
        "\n",
        "\n",
        "1.   name: Tên sản phẩm\n",
        "2.   sku: Mã sản phẩm\n",
        "3.   no_of_stars: Số đánh giá sao trung bình của sản phẩm (0-5 sao)\n",
        "4.   no_of_comments: Số lượng lượt đánh giá\n",
        "5.   seller_name: Tên nhà cung cấp\n",
        "6.   seller_link: Link cửa hàng nhà cung cấp\n",
        "7.   img_link: Ảnh của sản phẩm\n",
        "8.   price: Giá của sản phẩm sau khi đã chiết khấu (nếu có)\n",
        "9.   original_price: Giá gốc chưa giảm của sản phẩm\n",
        "10.   brief: Giới thiệu tóm tắt sản phẩm\n",
        "11.   description: Thông số chi tiết sản phẩm\n",
        "12.   info: Giới thiệu chi tiết sản phẩm\n",
        "\n"
      ]
    },
    {
      "cell_type": "code",
      "metadata": {
        "id": "fii7_5kN89SY",
        "colab_type": "code",
        "colab": {
          "base_uri": "https://localhost:8080/",
          "height": 770
        },
        "outputId": "bc2d7146-e7a1-41d1-ec09-dbb4c676f7a0"
      },
      "source": [
        "tiki.sample(5)"
      ],
      "execution_count": null,
      "outputs": [
        {
          "output_type": "execute_result",
          "data": {
            "text/html": [
              "<div>\n",
              "<style scoped>\n",
              "    .dataframe tbody tr th:only-of-type {\n",
              "        vertical-align: middle;\n",
              "    }\n",
              "\n",
              "    .dataframe tbody tr th {\n",
              "        vertical-align: top;\n",
              "    }\n",
              "\n",
              "    .dataframe thead th {\n",
              "        text-align: right;\n",
              "    }\n",
              "</style>\n",
              "<table border=\"1\" class=\"dataframe\">\n",
              "  <thead>\n",
              "    <tr style=\"text-align: right;\">\n",
              "      <th></th>\n",
              "      <th>name</th>\n",
              "      <th>sku</th>\n",
              "      <th>no_of_stars</th>\n",
              "      <th>no_of_comments</th>\n",
              "      <th>seller_name</th>\n",
              "      <th>seller_link</th>\n",
              "      <th>img_link</th>\n",
              "      <th>price</th>\n",
              "      <th>original_price</th>\n",
              "      <th>brief</th>\n",
              "      <th>description</th>\n",
              "      <th>info</th>\n",
              "    </tr>\n",
              "  </thead>\n",
              "  <tbody>\n",
              "    <tr>\n",
              "      <th>1051</th>\n",
              "      <td>Điều Hòa 2 Chiều LG Inverter 12000 Btu B13END ...</td>\n",
              "      <td>8.555008e+12</td>\n",
              "      <td>0.0</td>\n",
              "      <td>0</td>\n",
              "      <td>Tiki Trading</td>\n",
              "      <td>https://tiki.vn/cua-hang/tiki-trading</td>\n",
              "      <td>https://salt.tikicdn.com/cache/w390/ts/product...</td>\n",
              "      <td>10490000</td>\n",
              "      <td>13190000</td>\n",
              "      <td>Công suất lạnh:1.5 HP - 12.000 BTULoại máy: Đi...</td>\n",
              "      <td>Công suất làm lạnh1.5HPCông suất sưởi ấm12.800...</td>\n",
              "      <td>Thiết kế thanh lịch, màn hình hiển thị nhiệt đ...</td>\n",
              "    </tr>\n",
              "    <tr>\n",
              "      <th>1036</th>\n",
              "      <td>Giá Treo Màn Máy Tính Góc Xoay Đa Hướng Nhập K...</td>\n",
              "      <td>8.334905e+12</td>\n",
              "      <td>5.0</td>\n",
              "      <td>7</td>\n",
              "      <td>Công TyThiết Bị Hải Nam</td>\n",
              "      <td>https://tiki.vn/cua-hang/shop-hai-nam</td>\n",
              "      <td>https://salt.tikicdn.com/cache/w390/ts/product...</td>\n",
              "      <td>420000</td>\n",
              "      <td>625000</td>\n",
              "      <td>Kéo/ thả màn hình theo các hướng dễ dàngTiết k...</td>\n",
              "      <td>Thương hiệuNorth BayouXuất xứHong KongKích thư...</td>\n",
              "      <td>Sản phẩm giá treo LCD F120 được lắp đặt một c...</td>\n",
              "    </tr>\n",
              "    <tr>\n",
              "      <th>2422</th>\n",
              "      <td>Camera IP Wifi CareCam 3 Râu 1.0M HD 720P | Ti...</td>\n",
              "      <td>6.463679e+12</td>\n",
              "      <td>2.5</td>\n",
              "      <td>3</td>\n",
              "      <td>SIEUTHIHANGCONGNGHE</td>\n",
              "      <td>https://tiki.vn/cua-hang/sieuthihangcongnghe</td>\n",
              "      <td>https://salt.tikicdn.com/cache/w390/ts/product...</td>\n",
              "      <td>269000</td>\n",
              "      <td>359000</td>\n",
              "      <td>Cảm biến hình ảnh: HD 1.0M CMOSỐng kính: 3.6/2...</td>\n",
              "      <td>Thương hiệuOEMXuất xứ thương hiệuTrung QuốcSKU...</td>\n",
              "      <td>1. Bấm dấu cộng góc phải màn hình, chọn dòng ...</td>\n",
              "    </tr>\n",
              "    <tr>\n",
              "      <th>2453</th>\n",
              "      <td>Lens Sony SEL 50mm F1.8 | Tiki.vn</td>\n",
              "      <td>6.006983e+12</td>\n",
              "      <td>4.5</td>\n",
              "      <td>73</td>\n",
              "      <td>Tiki Trading</td>\n",
              "      <td>https://tiki.vn/cua-hang/tiki-trading</td>\n",
              "      <td>https://salt.tikicdn.com/cache/w390/ts/product...</td>\n",
              "      <td>4990000</td>\n",
              "      <td>5999000</td>\n",
              "      <td>Công nghệ ổn định hình ảnh SteadyShotKhẩu độ F...</td>\n",
              "      <td>Thương hiệuSonyXuất xứTrung QuốcSKU6005357664961</td>\n",
              "      <td>Lens Sony SEL 50mm F1.8Lens Sony SEL 50mm F1.8...</td>\n",
              "    </tr>\n",
              "    <tr>\n",
              "      <th>2768</th>\n",
              "      <td>Túi Đựng Máy Ảnh Canvas MC1 Size S - Hàng Nhập...</td>\n",
              "      <td>3.374925e+12</td>\n",
              "      <td>4.5</td>\n",
              "      <td>13</td>\n",
              "      <td>Túi Xách Thời Trang</td>\n",
              "      <td>https://tiki.vn/cua-hang/tui-xach-thoi-trang</td>\n",
              "      <td>https://salt.tikicdn.com/cache/w390/ts/product...</td>\n",
              "      <td>380000</td>\n",
              "      <td>475000</td>\n",
              "      <td>Thiết kế thời trang, gọn nhẹTúi lót chống sock...</td>\n",
              "      <td>Thương hiệuCanvasXuất xứTrung QuốcKích thước28...</td>\n",
              "      <td>Giá sản phẩm trên Tiki đã bao gồm thuế theo lu...</td>\n",
              "    </tr>\n",
              "  </tbody>\n",
              "</table>\n",
              "</div>"
            ],
            "text/plain": [
              "                                                   name  ...                                               info\n",
              "1051  Điều Hòa 2 Chiều LG Inverter 12000 Btu B13END ...  ...  Thiết kế thanh lịch, màn hình hiển thị nhiệt đ...\n",
              "1036  Giá Treo Màn Máy Tính Góc Xoay Đa Hướng Nhập K...  ...   Sản phẩm giá treo LCD F120 được lắp đặt một c...\n",
              "2422  Camera IP Wifi CareCam 3 Râu 1.0M HD 720P | Ti...  ...   1. Bấm dấu cộng góc phải màn hình, chọn dòng ...\n",
              "2453                  Lens Sony SEL 50mm F1.8 | Tiki.vn  ...  Lens Sony SEL 50mm F1.8Lens Sony SEL 50mm F1.8...\n",
              "2768  Túi Đựng Máy Ảnh Canvas MC1 Size S - Hàng Nhập...  ...  Giá sản phẩm trên Tiki đã bao gồm thuế theo lu...\n",
              "\n",
              "[5 rows x 12 columns]"
            ]
          },
          "metadata": {
            "tags": []
          },
          "execution_count": 6
        }
      ]
    },
    {
      "cell_type": "code",
      "metadata": {
        "id": "4rKugpzE_OcD",
        "colab_type": "code",
        "colab": {
          "base_uri": "https://localhost:8080/",
          "height": 336
        },
        "outputId": "a43af780-2ce8-4bba-d703-03801c1628d9"
      },
      "source": [
        "tiki.info()"
      ],
      "execution_count": null,
      "outputs": [
        {
          "output_type": "stream",
          "text": [
            "<class 'pandas.core.frame.DataFrame'>\n",
            "RangeIndex: 9095 entries, 0 to 9094\n",
            "Data columns (total 12 columns):\n",
            " #   Column          Non-Null Count  Dtype  \n",
            "---  ------          --------------  -----  \n",
            " 0   name            9095 non-null   object \n",
            " 1   sku             9091 non-null   float64\n",
            " 2   no_of_stars     9095 non-null   float64\n",
            " 3   no_of_comments  9095 non-null   int64  \n",
            " 4   seller_name     9089 non-null   object \n",
            " 5   seller_link     9089 non-null   object \n",
            " 6   img_link        9095 non-null   object \n",
            " 7   price           9095 non-null   int64  \n",
            " 8   original_price  9095 non-null   int64  \n",
            " 9   brief           9092 non-null   object \n",
            " 10  description     9095 non-null   object \n",
            " 11  info            9090 non-null   object \n",
            "dtypes: float64(2), int64(3), object(7)\n",
            "memory usage: 852.8+ KB\n"
          ],
          "name": "stdout"
        }
      ]
    },
    {
      "cell_type": "markdown",
      "metadata": {
        "id": "n6mitgerBd77",
        "colab_type": "text"
      },
      "source": [
        "# BASIC ANALYSIS"
      ]
    },
    {
      "cell_type": "markdown",
      "metadata": {
        "id": "WjbvTUGGCFty",
        "colab_type": "text"
      },
      "source": [
        "Khoảng giá của sản phẩm"
      ]
    },
    {
      "cell_type": "code",
      "metadata": {
        "id": "HSlgGgrLBjjM",
        "colab_type": "code",
        "colab": {
          "base_uri": "https://localhost:8080/",
          "height": 67
        },
        "outputId": "47dab47c-d7ab-4963-9999-a61e2c75bb1c"
      },
      "source": [
        "print('Giá sản phẩm trung bình: ', tiki['price'].mean())\n",
        "print('Giá sản phẩm cao nhất: ',tiki['price'].max())\n",
        "print('Giá sản phẩm thấp nhất: ', tiki['price'].min())"
      ],
      "execution_count": null,
      "outputs": [
        {
          "output_type": "stream",
          "text": [
            "Giá sản phẩm trung bình:  1584338.0114348542\n",
            "Giá sản phẩm cao nhất:  112950000\n",
            "Giá sản phẩm thấp nhất:  0\n"
          ],
          "name": "stdout"
        }
      ]
    },
    {
      "cell_type": "code",
      "metadata": {
        "id": "h2mco2LqslMO",
        "colab_type": "code",
        "colab": {
          "base_uri": "https://localhost:8080/",
          "height": 265
        },
        "outputId": "646284d4-869f-44e9-f5ad-594ecc2bcc47"
      },
      "source": [
        "tiki[tiki['price'] == tiki['price'].max()]"
      ],
      "execution_count": null,
      "outputs": [
        {
          "output_type": "execute_result",
          "data": {
            "text/html": [
              "<div>\n",
              "<style scoped>\n",
              "    .dataframe tbody tr th:only-of-type {\n",
              "        vertical-align: middle;\n",
              "    }\n",
              "\n",
              "    .dataframe tbody tr th {\n",
              "        vertical-align: top;\n",
              "    }\n",
              "\n",
              "    .dataframe thead th {\n",
              "        text-align: right;\n",
              "    }\n",
              "</style>\n",
              "<table border=\"1\" class=\"dataframe\">\n",
              "  <thead>\n",
              "    <tr style=\"text-align: right;\">\n",
              "      <th></th>\n",
              "      <th>name</th>\n",
              "      <th>sku</th>\n",
              "      <th>no_of_stars</th>\n",
              "      <th>no_of_comments</th>\n",
              "      <th>seller_name</th>\n",
              "      <th>seller_link</th>\n",
              "      <th>img_link</th>\n",
              "      <th>price</th>\n",
              "      <th>original_price</th>\n",
              "      <th>brief</th>\n",
              "      <th>description</th>\n",
              "      <th>info</th>\n",
              "      <th>score</th>\n",
              "    </tr>\n",
              "  </thead>\n",
              "  <tbody>\n",
              "    <tr>\n",
              "      <th>7726</th>\n",
              "      <td>Xe Máy Honda SH 150i Phanh ABS 2020 | Tiki.vn</td>\n",
              "      <td>5.672807e+12</td>\n",
              "      <td>5.0</td>\n",
              "      <td>2</td>\n",
              "      <td>Hệ thống HEAD Phát Tiến</td>\n",
              "      <td>https://tiki.vn/cua-hang/he-thong-head-phat-tien</td>\n",
              "      <td>https://salt.tikicdn.com/cache/w390/ts/product...</td>\n",
              "      <td>112950000</td>\n",
              "      <td>130000000</td>\n",
              "      <td>Giá bán xe đã bao gồm thuế VAT, không bao gồm ...</td>\n",
              "      <td>Thương hiệuHondaXuất xứ thương hiệuNhật BảnXuấ...</td>\n",
              "      <td>Biểu trưng cho sự sang trọngHệ thống đèn cải t...</td>\n",
              "      <td>10.0</td>\n",
              "    </tr>\n",
              "  </tbody>\n",
              "</table>\n",
              "</div>"
            ],
            "text/plain": [
              "                                               name  ...  score\n",
              "7726  Xe Máy Honda SH 150i Phanh ABS 2020 | Tiki.vn  ...   10.0\n",
              "\n",
              "[1 rows x 13 columns]"
            ]
          },
          "metadata": {
            "tags": []
          },
          "execution_count": 30
        }
      ]
    },
    {
      "cell_type": "code",
      "metadata": {
        "id": "0fM-zlY5WeRl",
        "colab_type": "code",
        "colab": {
          "base_uri": "https://localhost:8080/",
          "height": 34
        },
        "outputId": "e61d7701-8ef1-4718-e5fc-9d8e2b74dd3b"
      },
      "source": [
        "pd_by_star = tiki.groupby('no_of_stars')\n",
        "pd_by_star"
      ],
      "execution_count": null,
      "outputs": [
        {
          "output_type": "execute_result",
          "data": {
            "text/plain": [
              "<pandas.core.groupby.generic.DataFrameGroupBy object at 0x7f132ed450b8>"
            ]
          },
          "metadata": {
            "tags": []
          },
          "execution_count": 8
        }
      ]
    },
    {
      "cell_type": "markdown",
      "metadata": {
        "id": "zOAfisHJiPkh",
        "colab_type": "text"
      },
      "source": [
        "Số lượng sản phẩm theo đánh giá"
      ]
    },
    {
      "cell_type": "code",
      "metadata": {
        "id": "iyiPw_R7iAn4",
        "colab_type": "code",
        "colab": {
          "base_uri": "https://localhost:8080/",
          "height": 202
        },
        "outputId": "68b775a8-681f-489d-fdd6-fa4dd1f2cad8"
      },
      "source": [
        "tiki['no_of_stars'].value_counts()"
      ],
      "execution_count": null,
      "outputs": [
        {
          "output_type": "execute_result",
          "data": {
            "text/plain": [
              "4.5    5285\n",
              "3.5    1239\n",
              "0.0    1011\n",
              "5.0     677\n",
              "4.0     512\n",
              "2.5     161\n",
              "3.0     126\n",
              "1.0      46\n",
              "2.0      27\n",
              "1.5      11\n",
              "Name: no_of_stars, dtype: int64"
            ]
          },
          "metadata": {
            "tags": []
          },
          "execution_count": 9
        }
      ]
    },
    {
      "cell_type": "markdown",
      "metadata": {
        "id": "Q5ZM7smwnFto",
        "colab_type": "text"
      },
      "source": [
        "Số sản phẩm của các nhà cung cấp"
      ]
    },
    {
      "cell_type": "code",
      "metadata": {
        "id": "UXQGU_OQnJp2",
        "colab_type": "code",
        "colab": {
          "base_uri": "https://localhost:8080/",
          "height": 218
        },
        "outputId": "6da80ade-38b4-45c5-9a16-4e8512493fb7"
      },
      "source": [
        "tiki['seller_name'].value_counts()"
      ],
      "execution_count": null,
      "outputs": [
        {
          "output_type": "execute_result",
          "data": {
            "text/plain": [
              "Tiki Trading                   2236\n",
              "Unica                           103\n",
              "GUMAC                            89\n",
              "Gia Khang                        78\n",
              "Văn hóa Phương Đông              73\n",
              "                               ... \n",
              "SHOP MỸ LAN                       1\n",
              "Chuyên Đồ Câu                     1\n",
              "cominga                           1\n",
              "Chuyên thời trang nam nữ CD       1\n",
              "BeMine Store                      1\n",
              "Name: seller_name, Length: 2041, dtype: int64"
            ]
          },
          "metadata": {
            "tags": []
          },
          "execution_count": 15
        }
      ]
    },
    {
      "cell_type": "markdown",
      "metadata": {
        "id": "z74Z31Dijcmp",
        "colab_type": "text"
      },
      "source": [
        "Do Tiki không hiển thị số lượng hàng bán được, nên ta coi số đánh giá tương đương với số sản phẩm đã bán. Đặt cho các sản phẩm 1 điểm số tương đương với tích của số sao và số đánh giá."
      ]
    },
    {
      "cell_type": "code",
      "metadata": {
        "id": "SGTGUaz9jHBe",
        "colab_type": "code",
        "colab": {
          "base_uri": "https://localhost:8080/",
          "height": 195
        },
        "outputId": "bdf73aea-be6d-4dfa-80c8-56350882d2c4"
      },
      "source": [
        "tiki['score'] = tiki['no_of_comments'] * tiki['no_of_stars']\n",
        "tiki_a = tiki[['name', 'sku', 'no_of_stars', 'no_of_comments', 'score', 'price', 'original_price', 'seller_name']]\n",
        "tiki_a.sample(5)"
      ],
      "execution_count": 4,
      "outputs": [
        {
          "output_type": "execute_result",
          "data": {
            "text/html": [
              "<div>\n",
              "<style scoped>\n",
              "    .dataframe tbody tr th:only-of-type {\n",
              "        vertical-align: middle;\n",
              "    }\n",
              "\n",
              "    .dataframe tbody tr th {\n",
              "        vertical-align: top;\n",
              "    }\n",
              "\n",
              "    .dataframe thead th {\n",
              "        text-align: right;\n",
              "    }\n",
              "</style>\n",
              "<table border=\"1\" class=\"dataframe\">\n",
              "  <thead>\n",
              "    <tr style=\"text-align: right;\">\n",
              "      <th></th>\n",
              "      <th>name</th>\n",
              "      <th>sku</th>\n",
              "      <th>no_of_stars</th>\n",
              "      <th>no_of_comments</th>\n",
              "      <th>score</th>\n",
              "      <th>price</th>\n",
              "      <th>original_price</th>\n",
              "      <th>seller_name</th>\n",
              "    </tr>\n",
              "  </thead>\n",
              "  <tbody>\n",
              "    <tr>\n",
              "      <th>8412</th>\n",
              "      <td>Khóa học Tiếng Hàn Sơ Cấp 1 (Giáo Trình Tiếng ...</td>\n",
              "      <td>5.270464e+12</td>\n",
              "      <td>0.0</td>\n",
              "      <td>0</td>\n",
              "      <td>0.0</td>\n",
              "      <td>650000</td>\n",
              "      <td>1200000</td>\n",
              "      <td>Học Online cùng Tomato</td>\n",
              "    </tr>\n",
              "    <tr>\n",
              "      <th>6746</th>\n",
              "      <td>Combo 100 Dây Chun Cột Buộc Tóc Trơn Nhiều Màu...</td>\n",
              "      <td>2.388934e+12</td>\n",
              "      <td>3.5</td>\n",
              "      <td>32</td>\n",
              "      <td>112.0</td>\n",
              "      <td>21900</td>\n",
              "      <td>200000</td>\n",
              "      <td>Bảo Bảo Store</td>\n",
              "    </tr>\n",
              "    <tr>\n",
              "      <th>369</th>\n",
              "      <td>Điện Thoại ZIP 2.4-1 - Hàng Chính Hãng | Tiki.vn</td>\n",
              "      <td>7.772629e+12</td>\n",
              "      <td>3.5</td>\n",
              "      <td>8</td>\n",
              "      <td>28.0</td>\n",
              "      <td>270000</td>\n",
              "      <td>390000</td>\n",
              "      <td>Vinky Shop</td>\n",
              "    </tr>\n",
              "    <tr>\n",
              "      <th>4367</th>\n",
              "      <td>Bánh gấu chùm ngây (nhân kem) Morice - Thơm ng...</td>\n",
              "      <td>3.135168e+12</td>\n",
              "      <td>4.5</td>\n",
              "      <td>81</td>\n",
              "      <td>364.5</td>\n",
              "      <td>29000</td>\n",
              "      <td>36000</td>\n",
              "      <td>GUfoods</td>\n",
              "    </tr>\n",
              "    <tr>\n",
              "      <th>7265</th>\n",
              "      <td>Giày Thể Thao Nam Biti's Hunter Street DSMH013...</td>\n",
              "      <td>8.925790e+12</td>\n",
              "      <td>4.5</td>\n",
              "      <td>55</td>\n",
              "      <td>247.5</td>\n",
              "      <td>475000</td>\n",
              "      <td>499000</td>\n",
              "      <td>Tiki Trading</td>\n",
              "    </tr>\n",
              "  </tbody>\n",
              "</table>\n",
              "</div>"
            ],
            "text/plain": [
              "                                                   name  ...             seller_name\n",
              "8412  Khóa học Tiếng Hàn Sơ Cấp 1 (Giáo Trình Tiếng ...  ...  Học Online cùng Tomato\n",
              "6746  Combo 100 Dây Chun Cột Buộc Tóc Trơn Nhiều Màu...  ...           Bảo Bảo Store\n",
              "369    Điện Thoại ZIP 2.4-1 - Hàng Chính Hãng | Tiki.vn  ...              Vinky Shop\n",
              "4367  Bánh gấu chùm ngây (nhân kem) Morice - Thơm ng...  ...                 GUfoods\n",
              "7265  Giày Thể Thao Nam Biti's Hunter Street DSMH013...  ...            Tiki Trading\n",
              "\n",
              "[5 rows x 8 columns]"
            ]
          },
          "metadata": {
            "tags": []
          },
          "execution_count": 4
        }
      ]
    },
    {
      "cell_type": "markdown",
      "metadata": {
        "id": "vE7gEothyUTj",
        "colab_type": "text"
      },
      "source": [
        "Nhóm các sản phẩm theo giá tiền (bước giá 1.000.000)"
      ]
    },
    {
      "cell_type": "code",
      "metadata": {
        "id": "gpedMpKak4Ep",
        "colab_type": "code",
        "colab": {
          "base_uri": "https://localhost:8080/",
          "height": 225
        },
        "outputId": "adce8a90-8e71-49f6-ad0e-3010f7357ff6"
      },
      "source": [
        "tiki_b = tiki.groupby(pd.cut(tiki[\"price\"], np.arange(0, tiki['price'].max(), 1000000)))\n",
        "tiki_b[['score', 'price', 'original_price']].sum().head(5)\n"
      ],
      "execution_count": 7,
      "outputs": [
        {
          "output_type": "execute_result",
          "data": {
            "text/html": [
              "<div>\n",
              "<style scoped>\n",
              "    .dataframe tbody tr th:only-of-type {\n",
              "        vertical-align: middle;\n",
              "    }\n",
              "\n",
              "    .dataframe tbody tr th {\n",
              "        vertical-align: top;\n",
              "    }\n",
              "\n",
              "    .dataframe thead th {\n",
              "        text-align: right;\n",
              "    }\n",
              "</style>\n",
              "<table border=\"1\" class=\"dataframe\">\n",
              "  <thead>\n",
              "    <tr style=\"text-align: right;\">\n",
              "      <th></th>\n",
              "      <th>score</th>\n",
              "      <th>price</th>\n",
              "      <th>original_price</th>\n",
              "    </tr>\n",
              "    <tr>\n",
              "      <th>price</th>\n",
              "      <th></th>\n",
              "      <th></th>\n",
              "      <th></th>\n",
              "    </tr>\n",
              "  </thead>\n",
              "  <tbody>\n",
              "    <tr>\n",
              "      <th>(0, 1000000]</th>\n",
              "      <td>1965338.0</td>\n",
              "      <td>1713868158</td>\n",
              "      <td>2936536702</td>\n",
              "    </tr>\n",
              "    <tr>\n",
              "      <th>(1000000, 2000000]</th>\n",
              "      <td>72711.0</td>\n",
              "      <td>614314069</td>\n",
              "      <td>930213700</td>\n",
              "    </tr>\n",
              "    <tr>\n",
              "      <th>(2000000, 3000000]</th>\n",
              "      <td>34550.5</td>\n",
              "      <td>590047288</td>\n",
              "      <td>823388000</td>\n",
              "    </tr>\n",
              "    <tr>\n",
              "      <th>(3000000, 4000000]</th>\n",
              "      <td>19104.0</td>\n",
              "      <td>502585000</td>\n",
              "      <td>718899500</td>\n",
              "    </tr>\n",
              "    <tr>\n",
              "      <th>(4000000, 5000000]</th>\n",
              "      <td>7835.0</td>\n",
              "      <td>551131900</td>\n",
              "      <td>772672000</td>\n",
              "    </tr>\n",
              "  </tbody>\n",
              "</table>\n",
              "</div>"
            ],
            "text/plain": [
              "                        score       price  original_price\n",
              "price                                                    \n",
              "(0, 1000000]        1965338.0  1713868158      2936536702\n",
              "(1000000, 2000000]    72711.0   614314069       930213700\n",
              "(2000000, 3000000]    34550.5   590047288       823388000\n",
              "(3000000, 4000000]    19104.0   502585000       718899500\n",
              "(4000000, 5000000]     7835.0   551131900       772672000"
            ]
          },
          "metadata": {
            "tags": []
          },
          "execution_count": 7
        }
      ]
    },
    {
      "cell_type": "markdown",
      "metadata": {
        "id": "ONI9zyByf2a-",
        "colab_type": "text"
      },
      "source": [
        "**Làm sạch dữ liệu:** Lọc bỏ các khoảng giá tiền không có sản phẩm nào"
      ]
    },
    {
      "cell_type": "code",
      "metadata": {
        "id": "LbI51zvmyF9l",
        "colab_type": "code",
        "colab": {
          "base_uri": "https://localhost:8080/",
          "height": 1000
        },
        "outputId": "d0e04073-6046-4f59-cde7-55e79517a31b"
      },
      "source": [
        "tiki_d = tiki_b.size().reset_index(name='counts')\n",
        "tiki_d[tiki_d['counts'] != 0]"
      ],
      "execution_count": 8,
      "outputs": [
        {
          "output_type": "execute_result",
          "data": {
            "text/html": [
              "<div>\n",
              "<style scoped>\n",
              "    .dataframe tbody tr th:only-of-type {\n",
              "        vertical-align: middle;\n",
              "    }\n",
              "\n",
              "    .dataframe tbody tr th {\n",
              "        vertical-align: top;\n",
              "    }\n",
              "\n",
              "    .dataframe thead th {\n",
              "        text-align: right;\n",
              "    }\n",
              "</style>\n",
              "<table border=\"1\" class=\"dataframe\">\n",
              "  <thead>\n",
              "    <tr style=\"text-align: right;\">\n",
              "      <th></th>\n",
              "      <th>price</th>\n",
              "      <th>counts</th>\n",
              "    </tr>\n",
              "  </thead>\n",
              "  <tbody>\n",
              "    <tr>\n",
              "      <th>0</th>\n",
              "      <td>(0, 1000000]</td>\n",
              "      <td>7467</td>\n",
              "    </tr>\n",
              "    <tr>\n",
              "      <th>1</th>\n",
              "      <td>(1000000, 2000000]</td>\n",
              "      <td>423</td>\n",
              "    </tr>\n",
              "    <tr>\n",
              "      <th>2</th>\n",
              "      <td>(2000000, 3000000]</td>\n",
              "      <td>233</td>\n",
              "    </tr>\n",
              "    <tr>\n",
              "      <th>3</th>\n",
              "      <td>(3000000, 4000000]</td>\n",
              "      <td>142</td>\n",
              "    </tr>\n",
              "    <tr>\n",
              "      <th>4</th>\n",
              "      <td>(4000000, 5000000]</td>\n",
              "      <td>121</td>\n",
              "    </tr>\n",
              "    <tr>\n",
              "      <th>5</th>\n",
              "      <td>(5000000, 6000000]</td>\n",
              "      <td>85</td>\n",
              "    </tr>\n",
              "    <tr>\n",
              "      <th>6</th>\n",
              "      <td>(6000000, 7000000]</td>\n",
              "      <td>70</td>\n",
              "    </tr>\n",
              "    <tr>\n",
              "      <th>7</th>\n",
              "      <td>(7000000, 8000000]</td>\n",
              "      <td>63</td>\n",
              "    </tr>\n",
              "    <tr>\n",
              "      <th>8</th>\n",
              "      <td>(8000000, 9000000]</td>\n",
              "      <td>62</td>\n",
              "    </tr>\n",
              "    <tr>\n",
              "      <th>9</th>\n",
              "      <td>(9000000, 10000000]</td>\n",
              "      <td>64</td>\n",
              "    </tr>\n",
              "    <tr>\n",
              "      <th>10</th>\n",
              "      <td>(10000000, 11000000]</td>\n",
              "      <td>38</td>\n",
              "    </tr>\n",
              "    <tr>\n",
              "      <th>11</th>\n",
              "      <td>(11000000, 12000000]</td>\n",
              "      <td>40</td>\n",
              "    </tr>\n",
              "    <tr>\n",
              "      <th>12</th>\n",
              "      <td>(12000000, 13000000]</td>\n",
              "      <td>25</td>\n",
              "    </tr>\n",
              "    <tr>\n",
              "      <th>13</th>\n",
              "      <td>(13000000, 14000000]</td>\n",
              "      <td>26</td>\n",
              "    </tr>\n",
              "    <tr>\n",
              "      <th>14</th>\n",
              "      <td>(14000000, 15000000]</td>\n",
              "      <td>27</td>\n",
              "    </tr>\n",
              "    <tr>\n",
              "      <th>15</th>\n",
              "      <td>(15000000, 16000000]</td>\n",
              "      <td>17</td>\n",
              "    </tr>\n",
              "    <tr>\n",
              "      <th>16</th>\n",
              "      <td>(16000000, 17000000]</td>\n",
              "      <td>18</td>\n",
              "    </tr>\n",
              "    <tr>\n",
              "      <th>17</th>\n",
              "      <td>(17000000, 18000000]</td>\n",
              "      <td>18</td>\n",
              "    </tr>\n",
              "    <tr>\n",
              "      <th>18</th>\n",
              "      <td>(18000000, 19000000]</td>\n",
              "      <td>12</td>\n",
              "    </tr>\n",
              "    <tr>\n",
              "      <th>19</th>\n",
              "      <td>(19000000, 20000000]</td>\n",
              "      <td>15</td>\n",
              "    </tr>\n",
              "    <tr>\n",
              "      <th>20</th>\n",
              "      <td>(20000000, 21000000]</td>\n",
              "      <td>11</td>\n",
              "    </tr>\n",
              "    <tr>\n",
              "      <th>21</th>\n",
              "      <td>(21000000, 22000000]</td>\n",
              "      <td>6</td>\n",
              "    </tr>\n",
              "    <tr>\n",
              "      <th>22</th>\n",
              "      <td>(22000000, 23000000]</td>\n",
              "      <td>7</td>\n",
              "    </tr>\n",
              "    <tr>\n",
              "      <th>23</th>\n",
              "      <td>(23000000, 24000000]</td>\n",
              "      <td>9</td>\n",
              "    </tr>\n",
              "    <tr>\n",
              "      <th>24</th>\n",
              "      <td>(24000000, 25000000]</td>\n",
              "      <td>7</td>\n",
              "    </tr>\n",
              "    <tr>\n",
              "      <th>25</th>\n",
              "      <td>(25000000, 26000000]</td>\n",
              "      <td>5</td>\n",
              "    </tr>\n",
              "    <tr>\n",
              "      <th>26</th>\n",
              "      <td>(26000000, 27000000]</td>\n",
              "      <td>7</td>\n",
              "    </tr>\n",
              "    <tr>\n",
              "      <th>27</th>\n",
              "      <td>(27000000, 28000000]</td>\n",
              "      <td>4</td>\n",
              "    </tr>\n",
              "    <tr>\n",
              "      <th>28</th>\n",
              "      <td>(28000000, 29000000]</td>\n",
              "      <td>2</td>\n",
              "    </tr>\n",
              "    <tr>\n",
              "      <th>29</th>\n",
              "      <td>(29000000, 30000000]</td>\n",
              "      <td>4</td>\n",
              "    </tr>\n",
              "    <tr>\n",
              "      <th>30</th>\n",
              "      <td>(30000000, 31000000]</td>\n",
              "      <td>2</td>\n",
              "    </tr>\n",
              "    <tr>\n",
              "      <th>31</th>\n",
              "      <td>(31000000, 32000000]</td>\n",
              "      <td>5</td>\n",
              "    </tr>\n",
              "    <tr>\n",
              "      <th>32</th>\n",
              "      <td>(32000000, 33000000]</td>\n",
              "      <td>4</td>\n",
              "    </tr>\n",
              "    <tr>\n",
              "      <th>33</th>\n",
              "      <td>(33000000, 34000000]</td>\n",
              "      <td>3</td>\n",
              "    </tr>\n",
              "    <tr>\n",
              "      <th>35</th>\n",
              "      <td>(35000000, 36000000]</td>\n",
              "      <td>3</td>\n",
              "    </tr>\n",
              "    <tr>\n",
              "      <th>36</th>\n",
              "      <td>(36000000, 37000000]</td>\n",
              "      <td>1</td>\n",
              "    </tr>\n",
              "    <tr>\n",
              "      <th>37</th>\n",
              "      <td>(37000000, 38000000]</td>\n",
              "      <td>3</td>\n",
              "    </tr>\n",
              "    <tr>\n",
              "      <th>38</th>\n",
              "      <td>(38000000, 39000000]</td>\n",
              "      <td>3</td>\n",
              "    </tr>\n",
              "    <tr>\n",
              "      <th>39</th>\n",
              "      <td>(39000000, 40000000]</td>\n",
              "      <td>6</td>\n",
              "    </tr>\n",
              "    <tr>\n",
              "      <th>40</th>\n",
              "      <td>(40000000, 41000000]</td>\n",
              "      <td>1</td>\n",
              "    </tr>\n",
              "    <tr>\n",
              "      <th>41</th>\n",
              "      <td>(41000000, 42000000]</td>\n",
              "      <td>2</td>\n",
              "    </tr>\n",
              "    <tr>\n",
              "      <th>42</th>\n",
              "      <td>(42000000, 43000000]</td>\n",
              "      <td>2</td>\n",
              "    </tr>\n",
              "    <tr>\n",
              "      <th>43</th>\n",
              "      <td>(43000000, 44000000]</td>\n",
              "      <td>1</td>\n",
              "    </tr>\n",
              "    <tr>\n",
              "      <th>44</th>\n",
              "      <td>(44000000, 45000000]</td>\n",
              "      <td>1</td>\n",
              "    </tr>\n",
              "    <tr>\n",
              "      <th>45</th>\n",
              "      <td>(45000000, 46000000]</td>\n",
              "      <td>1</td>\n",
              "    </tr>\n",
              "    <tr>\n",
              "      <th>49</th>\n",
              "      <td>(49000000, 50000000]</td>\n",
              "      <td>1</td>\n",
              "    </tr>\n",
              "    <tr>\n",
              "      <th>53</th>\n",
              "      <td>(53000000, 54000000]</td>\n",
              "      <td>1</td>\n",
              "    </tr>\n",
              "    <tr>\n",
              "      <th>56</th>\n",
              "      <td>(56000000, 57000000]</td>\n",
              "      <td>1</td>\n",
              "    </tr>\n",
              "    <tr>\n",
              "      <th>61</th>\n",
              "      <td>(61000000, 62000000]</td>\n",
              "      <td>1</td>\n",
              "    </tr>\n",
              "    <tr>\n",
              "      <th>66</th>\n",
              "      <td>(66000000, 67000000]</td>\n",
              "      <td>1</td>\n",
              "    </tr>\n",
              "    <tr>\n",
              "      <th>69</th>\n",
              "      <td>(69000000, 70000000]</td>\n",
              "      <td>10</td>\n",
              "    </tr>\n",
              "    <tr>\n",
              "      <th>71</th>\n",
              "      <td>(71000000, 72000000]</td>\n",
              "      <td>2</td>\n",
              "    </tr>\n",
              "    <tr>\n",
              "      <th>72</th>\n",
              "      <td>(72000000, 73000000]</td>\n",
              "      <td>2</td>\n",
              "    </tr>\n",
              "    <tr>\n",
              "      <th>77</th>\n",
              "      <td>(77000000, 78000000]</td>\n",
              "      <td>1</td>\n",
              "    </tr>\n",
              "    <tr>\n",
              "      <th>79</th>\n",
              "      <td>(79000000, 80000000]</td>\n",
              "      <td>1</td>\n",
              "    </tr>\n",
              "    <tr>\n",
              "      <th>88</th>\n",
              "      <td>(88000000, 89000000]</td>\n",
              "      <td>1</td>\n",
              "    </tr>\n",
              "  </tbody>\n",
              "</table>\n",
              "</div>"
            ],
            "text/plain": [
              "                   price  counts\n",
              "0           (0, 1000000]    7467\n",
              "1     (1000000, 2000000]     423\n",
              "2     (2000000, 3000000]     233\n",
              "3     (3000000, 4000000]     142\n",
              "4     (4000000, 5000000]     121\n",
              "5     (5000000, 6000000]      85\n",
              "6     (6000000, 7000000]      70\n",
              "7     (7000000, 8000000]      63\n",
              "8     (8000000, 9000000]      62\n",
              "9    (9000000, 10000000]      64\n",
              "10  (10000000, 11000000]      38\n",
              "11  (11000000, 12000000]      40\n",
              "12  (12000000, 13000000]      25\n",
              "13  (13000000, 14000000]      26\n",
              "14  (14000000, 15000000]      27\n",
              "15  (15000000, 16000000]      17\n",
              "16  (16000000, 17000000]      18\n",
              "17  (17000000, 18000000]      18\n",
              "18  (18000000, 19000000]      12\n",
              "19  (19000000, 20000000]      15\n",
              "20  (20000000, 21000000]      11\n",
              "21  (21000000, 22000000]       6\n",
              "22  (22000000, 23000000]       7\n",
              "23  (23000000, 24000000]       9\n",
              "24  (24000000, 25000000]       7\n",
              "25  (25000000, 26000000]       5\n",
              "26  (26000000, 27000000]       7\n",
              "27  (27000000, 28000000]       4\n",
              "28  (28000000, 29000000]       2\n",
              "29  (29000000, 30000000]       4\n",
              "30  (30000000, 31000000]       2\n",
              "31  (31000000, 32000000]       5\n",
              "32  (32000000, 33000000]       4\n",
              "33  (33000000, 34000000]       3\n",
              "35  (35000000, 36000000]       3\n",
              "36  (36000000, 37000000]       1\n",
              "37  (37000000, 38000000]       3\n",
              "38  (38000000, 39000000]       3\n",
              "39  (39000000, 40000000]       6\n",
              "40  (40000000, 41000000]       1\n",
              "41  (41000000, 42000000]       2\n",
              "42  (42000000, 43000000]       2\n",
              "43  (43000000, 44000000]       1\n",
              "44  (44000000, 45000000]       1\n",
              "45  (45000000, 46000000]       1\n",
              "49  (49000000, 50000000]       1\n",
              "53  (53000000, 54000000]       1\n",
              "56  (56000000, 57000000]       1\n",
              "61  (61000000, 62000000]       1\n",
              "66  (66000000, 67000000]       1\n",
              "69  (69000000, 70000000]      10\n",
              "71  (71000000, 72000000]       2\n",
              "72  (72000000, 73000000]       2\n",
              "77  (77000000, 78000000]       1\n",
              "79  (79000000, 80000000]       1\n",
              "88  (88000000, 89000000]       1"
            ]
          },
          "metadata": {
            "tags": []
          },
          "execution_count": 8
        }
      ]
    },
    {
      "cell_type": "markdown",
      "metadata": {
        "id": "539b-5i4ynS2",
        "colab_type": "text"
      },
      "source": [
        "Ta có một bảng với các giá trị hữu dụng (sử dụng giá trị kích thước của các trường dạng string)"
      ]
    },
    {
      "cell_type": "code",
      "metadata": {
        "id": "H0Y1x4anyzOb",
        "colab_type": "code",
        "colab": {
          "base_uri": "https://localhost:8080/",
          "height": 195
        },
        "outputId": "645b53cd-a2c3-49de-bb81-c61488b6fa4c"
      },
      "source": [
        "tiki_c = tiki[['name','no_of_stars', 'no_of_comments', 'score','price', 'original_price']]\n",
        "tiki_c['s_brief'] = tiki['brief'].str.len()\n",
        "tiki_c['s_description'] = tiki['description'].str.len()\n",
        "tiki_c['s_info'] = tiki['info'].str.len()\n",
        "tiki_c.head(5)"
      ],
      "execution_count": null,
      "outputs": [
        {
          "output_type": "execute_result",
          "data": {
            "text/html": [
              "<div>\n",
              "<style scoped>\n",
              "    .dataframe tbody tr th:only-of-type {\n",
              "        vertical-align: middle;\n",
              "    }\n",
              "\n",
              "    .dataframe tbody tr th {\n",
              "        vertical-align: top;\n",
              "    }\n",
              "\n",
              "    .dataframe thead th {\n",
              "        text-align: right;\n",
              "    }\n",
              "</style>\n",
              "<table border=\"1\" class=\"dataframe\">\n",
              "  <thead>\n",
              "    <tr style=\"text-align: right;\">\n",
              "      <th></th>\n",
              "      <th>name</th>\n",
              "      <th>no_of_stars</th>\n",
              "      <th>no_of_comments</th>\n",
              "      <th>score</th>\n",
              "      <th>price</th>\n",
              "      <th>original_price</th>\n",
              "      <th>s_brief</th>\n",
              "      <th>s_description</th>\n",
              "      <th>s_info</th>\n",
              "    </tr>\n",
              "  </thead>\n",
              "  <tbody>\n",
              "    <tr>\n",
              "      <th>0</th>\n",
              "      <td>Điện Thoại iPhone 7 Plus 128GB - Hàng Chính Hã...</td>\n",
              "      <td>4.5</td>\n",
              "      <td>118</td>\n",
              "      <td>531.0</td>\n",
              "      <td>9490000</td>\n",
              "      <td>13990000</td>\n",
              "      <td>246.0</td>\n",
              "      <td>735</td>\n",
              "      <td>3320.0</td>\n",
              "    </tr>\n",
              "    <tr>\n",
              "      <th>1</th>\n",
              "      <td>Điện Thoại iPhone 11 128GB  - Hàng Chính Hãng ...</td>\n",
              "      <td>4.5</td>\n",
              "      <td>90</td>\n",
              "      <td>405.0</td>\n",
              "      <td>19990000</td>\n",
              "      <td>23990000</td>\n",
              "      <td>392.0</td>\n",
              "      <td>948</td>\n",
              "      <td>6723.0</td>\n",
              "    </tr>\n",
              "    <tr>\n",
              "      <th>2</th>\n",
              "      <td>iPad Mini 5 Wi-Fi 64GB -  Hàng Nhập Khẩu Chính...</td>\n",
              "      <td>4.5</td>\n",
              "      <td>324</td>\n",
              "      <td>1458.0</td>\n",
              "      <td>9790000</td>\n",
              "      <td>11990000</td>\n",
              "      <td>241.0</td>\n",
              "      <td>690</td>\n",
              "      <td>3516.0</td>\n",
              "    </tr>\n",
              "    <tr>\n",
              "      <th>3</th>\n",
              "      <td>Điện Thoại iPhone 11 Pro Max 64GB - Hàng Chính...</td>\n",
              "      <td>4.5</td>\n",
              "      <td>133</td>\n",
              "      <td>598.5</td>\n",
              "      <td>27990000</td>\n",
              "      <td>33990000</td>\n",
              "      <td>316.0</td>\n",
              "      <td>969</td>\n",
              "      <td>4680.0</td>\n",
              "    </tr>\n",
              "    <tr>\n",
              "      <th>4</th>\n",
              "      <td>Điện Thoại Vsmart Active 3 - Hàng Chính Hãng |...</td>\n",
              "      <td>4.5</td>\n",
              "      <td>533</td>\n",
              "      <td>2398.5</td>\n",
              "      <td>2850000</td>\n",
              "      <td>4490000</td>\n",
              "      <td>371.0</td>\n",
              "      <td>1329</td>\n",
              "      <td>2741.0</td>\n",
              "    </tr>\n",
              "  </tbody>\n",
              "</table>\n",
              "</div>"
            ],
            "text/plain": [
              "                                                name  ...  s_info\n",
              "0  Điện Thoại iPhone 7 Plus 128GB - Hàng Chính Hã...  ...  3320.0\n",
              "1  Điện Thoại iPhone 11 128GB  - Hàng Chính Hãng ...  ...  6723.0\n",
              "2  iPad Mini 5 Wi-Fi 64GB -  Hàng Nhập Khẩu Chính...  ...  3516.0\n",
              "3  Điện Thoại iPhone 11 Pro Max 64GB - Hàng Chính...  ...  4680.0\n",
              "4  Điện Thoại Vsmart Active 3 - Hàng Chính Hãng |...  ...  2741.0\n",
              "\n",
              "[5 rows x 9 columns]"
            ]
          },
          "metadata": {
            "tags": []
          },
          "execution_count": 36
        }
      ]
    },
    {
      "cell_type": "markdown",
      "metadata": {
        "id": "VN_ZAoL04B7t",
        "colab_type": "text"
      },
      "source": [
        "# DATA VISUALIZATION"
      ]
    },
    {
      "cell_type": "markdown",
      "metadata": {
        "id": "3xwzhQI4-Viq",
        "colab_type": "text"
      },
      "source": [
        "Biểu đồ thể hiện mối tương quan giữa điểm số của sản phẩm và giá tiền\n",
        "\n",
        "\n",
        "*   Có xu hướng các sản phẩm giá rẻ được ưa chuộng\n",
        "*   Dễ dàng nhận thấy các điểm bất thường\n",
        "\n"
      ]
    },
    {
      "cell_type": "code",
      "metadata": {
        "id": "0rOfyNkg4I_a",
        "colab_type": "code",
        "colab": {
          "base_uri": "https://localhost:8080/",
          "height": 497
        },
        "outputId": "fd64fcde-84cb-4fad-9942-2ebc35bf01b2"
      },
      "source": [
        "sns.scatterplot(x=\"price\", y=\"score\", data=tiki_c)\n",
        "fig=plt.gcf()\n",
        "fig.set_size_inches(12,8)\n",
        "plt.show()"
      ],
      "execution_count": null,
      "outputs": [
        {
          "output_type": "display_data",
          "data": {
            "image/png": "[encoded data removed]",
            "text/plain": [
              "<Figure size 864x576 with 1 Axes>"
            ]
          },
          "metadata": {
            "tags": []
          }
        }
      ]
    },
    {
      "cell_type": "markdown",
      "metadata": {
        "id": "2wcDlpU99r_7",
        "colab_type": "text"
      },
      "source": [
        "Thể hiện những sản phẩm dưới 5.000.000:\n",
        "\n",
        "=> Những sản phẩm giá thành càng ít, số lượng càng nhiều"
      ]
    },
    {
      "cell_type": "code",
      "metadata": {
        "id": "W_hIPlC-6iiS",
        "colab_type": "code",
        "colab": {
          "base_uri": "https://localhost:8080/",
          "height": 508
        },
        "outputId": "65412dec-93ee-4ccb-a177-c67b39f2d5e5"
      },
      "source": [
        "sns.distplot(tiki[tiki['price'] < 5000000]['price']) \n",
        "fig=plt.gcf()\n",
        "fig.set_size_inches(12,8)\n",
        "plt.show()"
      ],
      "execution_count": null,
      "outputs": [
        {
          "output_type": "display_data",
          "data": {
            "image/png": "[encoded data removed]",
            "text/plain": [
              "<Figure size 864x576 with 1 Axes>"
            ]
          },
          "metadata": {
            "tags": []
          }
        }
      ]
    },
    {
      "cell_type": "markdown",
      "metadata": {
        "id": "CyFYCc0lCbVx",
        "colab_type": "text"
      },
      "source": [
        "Top 15 nhà bán hàng có số lượng sản phẩm nhiều nhất (ngoại trừ Tiki Trading)"
      ]
    },
    {
      "cell_type": "code",
      "metadata": {
        "id": "WnJYlBvj_FKy",
        "colab_type": "code",
        "colab": {
          "base_uri": "https://localhost:8080/",
          "height": 506
        },
        "outputId": "d44b6335-2cff-4e2a-da3d-10201ab22d9d"
      },
      "source": [
        "plt.subplots(figsize=(30,10))\n",
        "sns.barplot(tiki['seller_name'].value_counts()[1:16].index,tiki['seller_name'].value_counts()[1:16].values,palette='GnBu_d')\n",
        "plt.title('Top Seller (except Tiki Tranding)')\n",
        "plt.show()"
      ],
      "execution_count": null,
      "outputs": [
        {
          "output_type": "display_data",
          "data": {
            "image/png": "[encoded data removed]",
            "text/plain": [
              "<Figure size 2160x720 with 1 Axes>"
            ]
          },
          "metadata": {
            "tags": []
          }
        }
      ]
    },
    {
      "cell_type": "markdown",
      "metadata": {
        "id": "nf72zcgZYFf1",
        "colab_type": "text"
      },
      "source": [
        "Số lượng sản phẩm theo điểm sao đánh giá\n",
        "\n",
        "*   Đánh giá: Sản phẩm trên Tiki có chất lượng cao\n",
        "\n"
      ]
    },
    {
      "cell_type": "code",
      "metadata": {
        "id": "HyvYyuqnXt1Y",
        "colab_type": "code",
        "colab": {
          "base_uri": "https://localhost:8080/",
          "height": 502
        },
        "outputId": "02b0ea6a-c43e-46f1-9144-4fd772a09e29"
      },
      "source": [
        "plt.subplots(figsize=(30,10))\n",
        "sns.barplot(tiki['no_of_stars'].value_counts().index,tiki['no_of_stars'].value_counts().values,palette='BuGn_r')\n",
        "plt.title('Star')\n",
        "plt.show()"
      ],
      "execution_count": null,
      "outputs": [
        {
          "output_type": "display_data",
          "data": {
            "image/png": "[encoded data removed]",
            "text/plain": [
              "<Figure size 2160x720 with 1 Axes>"
            ]
          },
          "metadata": {
            "tags": []
          }
        }
      ]
    },
    {
      "cell_type": "markdown",
      "metadata": {
        "id": "F2KlgecKTqzN",
        "colab_type": "text"
      },
      "source": [
        "Tương quan giữa giá tiền trước và sau khi giảm"
      ]
    },
    {
      "cell_type": "code",
      "metadata": {
        "id": "qcCKj7PweiDO",
        "colab_type": "code",
        "colab": {
          "base_uri": "https://localhost:8080/",
          "height": 507
        },
        "outputId": "8735357a-22d1-4788-ca50-e002a681502e"
      },
      "source": [
        "sns.kdeplot(tiki['price'])\n",
        "sns.kdeplot(tiki['original_price'])\n",
        "fig=plt.gcf()\n",
        "fig.set_size_inches(12,8)\n",
        "sns.set_palette('Blues') \n",
        "plt.legend();"
      ],
      "execution_count": null,
      "outputs": [
        {
          "output_type": "display_data",
          "data": {
            "image/png": "[encoded data removed]",
            "text/plain": [
              "<Figure size 864x576 with 1 Axes>"
            ]
          },
          "metadata": {
            "tags": []
          }
        }
      ]
    },
    {
      "cell_type": "markdown",
      "metadata": {
        "id": "Y6ulMFnLeyhq",
        "colab_type": "text"
      },
      "source": [
        "Tương quan giữa giá và độ dài của phần giới thiệu"
      ]
    },
    {
      "cell_type": "code",
      "metadata": {
        "id": "vUGXdez-b0A6",
        "colab_type": "code",
        "colab": {
          "base_uri": "https://localhost:8080/",
          "height": 705
        },
        "outputId": "0d175793-d030-4782-b15e-76f7cc87a379"
      },
      "source": [
        "g = sns.JointGrid(x=\"price\", y=\"s_info\", data=tiki_c)\n",
        "fig=plt.gcf()\n",
        "fig.set_size_inches(10,10)\n",
        "sns.set_palette('Blues') \n",
        "g = g.plot(sns.regplot, sns.distplot)"
      ],
      "execution_count": null,
      "outputs": [
        {
          "output_type": "display_data",
          "data": {
            "image/png": "[encoded data removed]",
            "text/plain": [
              "<Figure size 720x720 with 3 Axes>"
            ]
          },
          "metadata": {
            "tags": []
          }
        }
      ]
    }
  ]
}